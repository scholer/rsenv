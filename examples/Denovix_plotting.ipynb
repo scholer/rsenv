{
 "cells": [
  {
   "cell_type": "code",
   "execution_count": 9,
   "metadata": {},
   "outputs": [],
   "source": [
    "%matplotlib inline"
   ]
  },
  {
   "cell_type": "code",
   "execution_count": 10,
   "metadata": {},
   "outputs": [],
   "source": [
    "import os\n",
    "import numpy as np\n",
    "import pandas as pd\n",
    "from IPython.display import display"
   ]
  },
  {
   "cell_type": "code",
   "execution_count": 11,
   "metadata": {},
   "outputs": [],
   "source": [
    "from importlib import reload\n",
    "import rsenv\n",
    "RSENV_DIR = os.path.dirname(rsenv.__file__)\n",
    "EXAMPLE_DATA_DIR = os.path.join(os.path.dirname(RSENV_DIR), 'examples', 'example_data')\n",
    "from rsenv.data_analysis.nanodrop import denovix"
   ]
  },
  {
   "cell_type": "code",
   "execution_count": 12,
   "metadata": {},
   "outputs": [
    {
     "name": "stdout",
     "output_type": "stream",
     "text": [
      "c:\\users\\rasse\\dev\\rsenv\\rsenv\\__init__.py\n",
      "c:\\users\\rasse\\dev\\rsenv\\rsenv\n",
      "c:\\users\\rasse\\dev\\rsenv\\examples\\example_data\n",
      "len(y_vals): 10\n",
      "len(metadata): 10\n",
      "len(columns): 10\n",
      "len(x_vals): 651\n",
      "y_vals.shape (10, 651)\n"
     ]
    }
   ],
   "source": [
    "reload(denovix)\n",
    "\n",
    "print(rsenv.__file__)\n",
    "print(RSENV_DIR)\n",
    "print(EXAMPLE_DATA_DIR)\n",
    "\n",
    "fn = os.path.join(EXAMPLE_DATA_DIR, 'denovix', 'report_53.538.csv')\n",
    "\n",
    "df, metadata = denovix.csv_to_dataframe(fn)\n"
   ]
  },
  {
   "cell_type": "code",
   "execution_count": 13,
   "metadata": {},
   "outputs": [
    {
     "data": {
      "text/html": [
       "<div>\n",
       "<style scoped>\n",
       "    .dataframe tbody tr th:only-of-type {\n",
       "        vertical-align: middle;\n",
       "    }\n",
       "\n",
       "    .dataframe tbody tr th {\n",
       "        vertical-align: top;\n",
       "    }\n",
       "\n",
       "    .dataframe thead th {\n",
       "        text-align: right;\n",
       "    }\n",
       "</style>\n",
       "<table border=\"1\" class=\"dataframe\">\n",
       "  <thead>\n",
       "    <tr style=\"text-align: right;\">\n",
       "      <th></th>\n",
       "      <th>a</th>\n",
       "      <th>a</th>\n",
       "    </tr>\n",
       "  </thead>\n",
       "  <tbody>\n",
       "    <tr>\n",
       "      <th>1</th>\n",
       "      <td>0</td>\n",
       "      <td>1</td>\n",
       "    </tr>\n",
       "    <tr>\n",
       "      <th>1</th>\n",
       "      <td>10</td>\n",
       "      <td>11</td>\n",
       "    </tr>\n",
       "  </tbody>\n",
       "</table>\n",
       "</div>"
      ],
      "text/plain": [
       "    a   a\n",
       "1   0   1\n",
       "1  10  11"
      ]
     },
     "execution_count": 13,
     "metadata": {},
     "output_type": "execute_result"
    }
   ],
   "source": [
    "# rows of columns\n",
    "# columns do not have to be unique.\n",
    "# index, in general, does not have to be unique.\n",
    "testdf = pd.DataFrame(data=[np.arange(10), np.arange(10, 20)], columns=list('aabbcdefghijklmn'[:10]), index=[1, 1])\n",
    "# selecting non-unique locations will select all matching columns/rows.\n",
    "testdf['a']  # [col]\n",
    "testdf.loc[1, 'a']  # [rows, cols]\n"
   ]
  },
  {
   "cell_type": "code",
   "execution_count": 14,
   "metadata": {},
   "outputs": [
    {
     "data": {
      "text/html": [
       "<div>\n",
       "<style scoped>\n",
       "    .dataframe tbody tr th:only-of-type {\n",
       "        vertical-align: middle;\n",
       "    }\n",
       "\n",
       "    .dataframe tbody tr th {\n",
       "        vertical-align: top;\n",
       "    }\n",
       "\n",
       "    .dataframe thead th {\n",
       "        text-align: right;\n",
       "    }\n",
       "</style>\n",
       "<table border=\"1\" class=\"dataframe\">\n",
       "  <thead>\n",
       "    <tr style=\"text-align: right;\">\n",
       "      <th></th>\n",
       "      <th>RS501b A8-3</th>\n",
       "      <th>RS501b B4-4</th>\n",
       "    </tr>\n",
       "  </thead>\n",
       "  <tbody>\n",
       "    <tr>\n",
       "      <th>250</th>\n",
       "      <td>2.513</td>\n",
       "      <td>0.471</td>\n",
       "    </tr>\n",
       "    <tr>\n",
       "      <th>255</th>\n",
       "      <td>3.189</td>\n",
       "      <td>0.382</td>\n",
       "    </tr>\n",
       "    <tr>\n",
       "      <th>260</th>\n",
       "      <td>3.845</td>\n",
       "      <td>0.299</td>\n",
       "    </tr>\n",
       "    <tr>\n",
       "      <th>265</th>\n",
       "      <td>4.155</td>\n",
       "      <td>0.264</td>\n",
       "    </tr>\n",
       "    <tr>\n",
       "      <th>270</th>\n",
       "      <td>4.261</td>\n",
       "      <td>0.275</td>\n",
       "    </tr>\n",
       "    <tr>\n",
       "      <th>275</th>\n",
       "      <td>4.023</td>\n",
       "      <td>0.296</td>\n",
       "    </tr>\n",
       "    <tr>\n",
       "      <th>280</th>\n",
       "      <td>3.392</td>\n",
       "      <td>0.326</td>\n",
       "    </tr>\n",
       "    <tr>\n",
       "      <th>285</th>\n",
       "      <td>2.658</td>\n",
       "      <td>0.348</td>\n",
       "    </tr>\n",
       "    <tr>\n",
       "      <th>290</th>\n",
       "      <td>1.884</td>\n",
       "      <td>0.356</td>\n",
       "    </tr>\n",
       "    <tr>\n",
       "      <th>295</th>\n",
       "      <td>1.185</td>\n",
       "      <td>0.349</td>\n",
       "    </tr>\n",
       "    <tr>\n",
       "      <th>300</th>\n",
       "      <td>0.751</td>\n",
       "      <td>0.336</td>\n",
       "    </tr>\n",
       "  </tbody>\n",
       "</table>\n",
       "</div>"
      ],
      "text/plain": [
       "     RS501b A8-3  RS501b B4-4\n",
       "250        2.513        0.471\n",
       "255        3.189        0.382\n",
       "260        3.845        0.299\n",
       "265        4.155        0.264\n",
       "270        4.261        0.275\n",
       "275        4.023        0.296\n",
       "280        3.392        0.326\n",
       "285        2.658        0.348\n",
       "290        1.884        0.356\n",
       "295        1.185        0.349\n",
       "300        0.751        0.336"
      ]
     },
     "metadata": {},
     "output_type": "display_data"
    },
    {
     "data": {
      "text/html": [
       "<div>\n",
       "<style scoped>\n",
       "    .dataframe tbody tr th:only-of-type {\n",
       "        vertical-align: middle;\n",
       "    }\n",
       "\n",
       "    .dataframe tbody tr th {\n",
       "        vertical-align: top;\n",
       "    }\n",
       "\n",
       "    .dataframe thead th {\n",
       "        text-align: right;\n",
       "    }\n",
       "</style>\n",
       "<table border=\"1\" class=\"dataframe\">\n",
       "  <thead>\n",
       "    <tr style=\"text-align: right;\">\n",
       "      <th></th>\n",
       "      <th>RS501b B4-4</th>\n",
       "      <th>RS501b C10-5</th>\n",
       "    </tr>\n",
       "  </thead>\n",
       "  <tbody>\n",
       "    <tr>\n",
       "      <th>210</th>\n",
       "      <td>0.0</td>\n",
       "      <td>0.0</td>\n",
       "    </tr>\n",
       "    <tr>\n",
       "      <th>211</th>\n",
       "      <td>0.0</td>\n",
       "      <td>0.0</td>\n",
       "    </tr>\n",
       "    <tr>\n",
       "      <th>212</th>\n",
       "      <td>0.0</td>\n",
       "      <td>0.0</td>\n",
       "    </tr>\n",
       "    <tr>\n",
       "      <th>213</th>\n",
       "      <td>0.0</td>\n",
       "      <td>0.0</td>\n",
       "    </tr>\n",
       "    <tr>\n",
       "      <th>214</th>\n",
       "      <td>0.0</td>\n",
       "      <td>0.0</td>\n",
       "    </tr>\n",
       "    <tr>\n",
       "      <th>215</th>\n",
       "      <td>0.0</td>\n",
       "      <td>0.0</td>\n",
       "    </tr>\n",
       "    <tr>\n",
       "      <th>216</th>\n",
       "      <td>0.0</td>\n",
       "      <td>0.0</td>\n",
       "    </tr>\n",
       "    <tr>\n",
       "      <th>217</th>\n",
       "      <td>0.0</td>\n",
       "      <td>0.0</td>\n",
       "    </tr>\n",
       "    <tr>\n",
       "      <th>218</th>\n",
       "      <td>0.0</td>\n",
       "      <td>0.0</td>\n",
       "    </tr>\n",
       "    <tr>\n",
       "      <th>219</th>\n",
       "      <td>0.0</td>\n",
       "      <td>0.0</td>\n",
       "    </tr>\n",
       "  </tbody>\n",
       "</table>\n",
       "</div>"
      ],
      "text/plain": [
       "     RS501b B4-4  RS501b C10-5\n",
       "210          0.0           0.0\n",
       "211          0.0           0.0\n",
       "212          0.0           0.0\n",
       "213          0.0           0.0\n",
       "214          0.0           0.0\n",
       "215          0.0           0.0\n",
       "216          0.0           0.0\n",
       "217          0.0           0.0\n",
       "218          0.0           0.0\n",
       "219          0.0           0.0"
      ]
     },
     "metadata": {},
     "output_type": "display_data"
    }
   ],
   "source": [
    "# pd.DataFrame(data=[np.arange(10), np.arange(10, 20)], columns=list('abcdefghijklmn'[:2]), index=np.arange(2, 12))\n",
    "\n",
    "# With Pandas, you first select the data, then plot:\n",
    "# df.plot(y=['RS501b A8-3', 'RS501b B4-4'])  # no.\n",
    "\n",
    "df[['RS501b A8-3', 'RS501b B4-4']]  # default is to get column by name;\n",
    "# To get a selection of rows: df.loc[rows, cols]\n",
    "display(df.loc[250:300:5, ['RS501b A8-3', 'RS501b B4-4']])\n",
    "# Use df.iloc to by-pass the axis index (rows, cols) and use numeric, zero-based index:\n",
    "display(df.iloc[20:30, [1, 2]])\n",
    "\n"
   ]
  },
  {
   "cell_type": "code",
   "execution_count": 15,
   "metadata": {},
   "outputs": [
    {
     "data": {
      "text/plain": [
       "<matplotlib.axes._subplots.AxesSubplot at 0x13714cecdd8>"
      ]
     },
     "execution_count": 15,
     "metadata": {},
     "output_type": "execute_result"
    },
    {
     "data": {
      "image/png": "[encoded data removed]",
      "text/plain": [
       "<matplotlib.figure.Figure at 0x13714160a90>"
      ]
     },
     "metadata": {},
     "output_type": "display_data"
    }
   ],
   "source": [
    "df.loc[250:300, ['RS501b A8-3', 'RS501b B4-4']].plot()\n"
   ]
  },
  {
   "cell_type": "code",
   "execution_count": 34,
   "metadata": {},
   "outputs": [
    {
     "name": "stdout",
     "output_type": "stream",
     "text": [
      "Index(['RS501b A8-3', 'RS501b B4-4', 'RS501b C10-5', 'RS501b D12-6',\n",
      "       'RS501b D9-8', 'RS501c A7 df20-10', 'RS501c C9C10 df20-11',\n",
      "       'RS501c C11 df20-12', 'RS501c C12D12 df20-13', 'RS501c D10D9 df20-14'],\n",
      "      dtype='object')\n",
      "\n",
      "requested: ['all', '-1', '-RS501b A8-3']\n",
      " + all            = [0, 1, 2, 3, 4, 5, 6, 7, 8, 9] --> [0, 1, 2, 3, 4, 5, 6, 7, 8, 9]\n",
      " + -1             = [1] --> [0, 2, 3, 4, 5, 6, 7, 8, 9]\n",
      " + -RS501b A8-3   = [0] --> [2, 3, 4, 5, 6, 7, 8, 9]\n",
      "[2, 3, 4, 5, 6, 7, 8, 9]\n",
      "RS501b C10-5, RS501b D12-6, RS501b D9-8, RS501c A7 df20-10, RS501c C9C10 df20-11, RS501c C11 df20-12, RS501c C12D12 df20-13, RS501c D10D9 df20-14\n",
      "\n",
      "requested: ['all', '-1', '-RS501b A8-3', '-RS502c*']\n",
      " + all            = [0, 1, 2, 3, 4, 5, 6, 7, 8, 9] --> [0, 1, 2, 3, 4, 5, 6, 7, 8, 9]\n",
      " + -1             = [1] --> [0, 2, 3, 4, 5, 6, 7, 8, 9]\n",
      "regex: (?s:RS501b\\ A8\\-3)\\Z\n",
      " + -RS501b A8-3   = [0] --> [2, 3, 4, 5, 6, 7, 8, 9]\n",
      "regex: (?s:RS502c.*)\\Z\n",
      " + -RS502c*       = [] --> [2, 3, 4, 5, 6, 7, 8, 9]\n",
      "[2, 3, 4, 5, 6, 7, 8, 9]\n",
      "RS501b C10-5, RS501b D12-6, RS501b D9-8, RS501c A7 df20-10, RS501c C9C10 df20-11, RS501c C11 df20-12, RS501c C12D12 df20-13, RS501c D10D9 df20-14\n"
     ]
    }
   ],
   "source": [
    "import shlex\n",
    "\n",
    "names = df.columns\n",
    "nidxs = list(range(len(names)))\n",
    "print(df.columns)\n",
    "\n",
    "\n",
    "requested = shlex.split('all -1 -\"RS501b A8-3\"')\n",
    "print(\"\\nrequested:\", requested)\n",
    "selected_idxs = translate_all_requests_to_idxs(requested, candidates=df.columns)\n",
    "selected_cols = [df.columns[idx] for idx in selected_idxs]\n",
    "print(selected_idxs)\n",
    "print(\", \".join(selected_cols))\n",
    "\n",
    "\n",
    "requested = shlex.split('all -1 -\"RS501b A8-3\" -RS502c*')\n",
    "print(\"\\nrequested:\", requested)\n",
    "selected_idxs = translate_all_requests_to_idxs(requested, candidates=df.columns, match_method='glob')\n",
    "selected_cols = [df.columns[idx] for idx in selected_idxs]\n",
    "print(selected_idxs)\n",
    "print(\", \".join(selected_cols))\n",
    "\n"
   ]
  },
  {
   "cell_type": "code",
   "execution_count": 37,
   "metadata": {},
   "outputs": [
    {
     "ename": "SyntaxError",
     "evalue": "invalid syntax (<string>, line 1)",
     "output_type": "error",
     "traceback": [
      "Traceback \u001b[1;36m(most recent call last)\u001b[0m:\n",
      "  File \u001b[0;32m\"C:\\Users\\rasse\\Anaconda3\\envs\\rsenv\\lib\\site-packages\\IPython\\core\\interactiveshell.py\"\u001b[0m, line \u001b[0;32m2910\u001b[0m, in \u001b[0;35mrun_code\u001b[0m\n    exec(code_obj, self.user_global_ns, self.user_ns)\n",
      "\u001b[1;36m  File \u001b[1;32m\"<ipython-input-37-7f3625b808b1>\"\u001b[1;36m, line \u001b[1;32m1\u001b[1;36m, in \u001b[1;35m<module>\u001b[1;36m\u001b[0m\n\u001b[1;33m    eval(\"[1:2]\")\u001b[0m\n",
      "\u001b[1;36m  File \u001b[1;32m\"<string>\"\u001b[1;36m, line \u001b[1;32m1\u001b[0m\n\u001b[1;33m    [1:2]\u001b[0m\n\u001b[1;37m      ^\u001b[0m\n\u001b[1;31mSyntaxError\u001b[0m\u001b[1;31m:\u001b[0m invalid syntax\n"
     ]
    }
   ],
   "source": [
    "eval(\"[1:2]\")"
   ]
  },
  {
   "cell_type": "code",
   "execution_count": 3,
   "metadata": {},
   "outputs": [],
   "source": [
    "from glob import glob\n",
    "from fnmatch import filter as fnfilter\n",
    "from fnmatch import fnmatch, fnmatchcase\n"
   ]
  },
  {
   "cell_type": "code",
   "execution_count": 4,
   "metadata": {},
   "outputs": [],
   "source": [
    "fnfilter?"
   ]
  },
  {
   "cell_type": "code",
   "execution_count": 43,
   "metadata": {},
   "outputs": [
    {
     "name": "stdout",
     "output_type": "stream",
     "text": [
      "<PyHKEY:0x0000000000000410>\n",
      "C:\\Users\\rasse\\AppData\\Local\\Packages\\Microsoft.Windows.ContentDeliveryManager_cw5n1h2txyewy\\LocalState\\Assets\\a95e38c4d5d44cb9a8e619a79da132351cf78ee4e9d261582b13c2f13c227143\n"
     ]
    }
   ],
   "source": [
    "import winreg\n",
    "reg = winreg.ConnectRegistry(None, winreg.HKEY_CURRENT_USER)\n",
    "key = winreg.OpenKey(\n",
    "    reg,\n",
    "    r\"SOFTWARE\\\\Microsoft\\\\Windows\\\\CurrentVersion\\\\Lock Screen\\\\Creative\")\n",
    "print(key)\n",
    "url = winreg.QueryValueEx(key, 'LandscapeAssetPath')[0]\n",
    "print(url)\n"
   ]
  },
  {
   "cell_type": "code",
   "execution_count": null,
   "metadata": {},
   "outputs": [],
   "source": []
  }
 ],
 "metadata": {
  "kernelspec": {
   "display_name": "Python 3",
   "language": "python",
   "name": "python3"
  },
  "language_info": {
   "codemirror_mode": {
    "name": "ipython",
    "version": 3
   },
   "file_extension": ".py",
   "mimetype": "text/x-python",
   "name": "python",
   "nbconvert_exporter": "python",
   "pygments_lexer": "ipython3",
   "version": "3.6.3"
  }
 },
 "nbformat": 4,
 "nbformat_minor": 2
}
