{
 "cells": [
  {
   "cell_type": "code",
   "execution_count": 2,
   "metadata": {},
   "outputs": [],
   "source": [
    "%matplotlib inline"
   ]
  },
  {
   "cell_type": "code",
   "execution_count": 47,
   "metadata": {},
   "outputs": [],
   "source": [
    "import os\n",
    "import numpy as np\n",
    "import pandas as pd\n",
    "from IPython.display import display"
   ]
  },
  {
   "cell_type": "code",
   "execution_count": 8,
   "metadata": {},
   "outputs": [],
   "source": [
    "from importlib import reload\n",
    "import rsenv\n",
    "RSENV_DIR = os.path.dirname(rsenv.__file__)\n",
    "EXAMPLE_DATA_DIR = os.path.join(os.path.dirname(RSENV_DIR), 'examples', 'example_data')\n",
    "from rsenv.data_analysis.nanodrop import denovix"
   ]
  },
  {
   "cell_type": "code",
   "execution_count": 32,
   "metadata": {},
   "outputs": [
    {
     "name": "stdout",
     "output_type": "stream",
     "text": [
      "c:\\users\\rasse\\dev\\rsenv\\rsenv\\__init__.py\n",
      "c:\\users\\rasse\\dev\\rsenv\\rsenv\n",
      "c:\\users\\rasse\\dev\\rsenv\\examples\\example_data\n",
      "len(y_vals): 10\n",
      "len(metadata): 10\n",
      "len(columns): 10\n",
      "len(x_vals): 651\n",
      "y_vals.shape (10, 651)\n"
     ]
    }
   ],
   "source": [
    "reload(denovix)\n",
    "\n",
    "print(rsenv.__file__)\n",
    "print(RSENV_DIR)\n",
    "print(EXAMPLE_DATA_DIR)\n",
    "\n",
    "fn = os.path.join(EXAMPLE_DATA_DIR, 'denovix', 'report_53.538.csv')\n",
    "\n",
    "df, metadata = denovix.csv_to_dataframe(fn)\n"
   ]
  },
  {
   "cell_type": "code",
   "execution_count": 62,
   "metadata": {},
   "outputs": [
    {
     "data": {
      "text/html": [
       "<div>\n",
       "<style scoped>\n",
       "    .dataframe tbody tr th:only-of-type {\n",
       "        vertical-align: middle;\n",
       "    }\n",
       "\n",
       "    .dataframe tbody tr th {\n",
       "        vertical-align: top;\n",
       "    }\n",
       "\n",
       "    .dataframe thead th {\n",
       "        text-align: right;\n",
       "    }\n",
       "</style>\n",
       "<table border=\"1\" class=\"dataframe\">\n",
       "  <thead>\n",
       "    <tr style=\"text-align: right;\">\n",
       "      <th></th>\n",
       "      <th>a</th>\n",
       "      <th>a</th>\n",
       "    </tr>\n",
       "  </thead>\n",
       "  <tbody>\n",
       "    <tr>\n",
       "      <th>1</th>\n",
       "      <td>0</td>\n",
       "      <td>1</td>\n",
       "    </tr>\n",
       "    <tr>\n",
       "      <th>1</th>\n",
       "      <td>10</td>\n",
       "      <td>11</td>\n",
       "    </tr>\n",
       "  </tbody>\n",
       "</table>\n",
       "</div>"
      ],
      "text/plain": [
       "    a   a\n",
       "1   0   1\n",
       "1  10  11"
      ]
     },
     "execution_count": 62,
     "metadata": {},
     "output_type": "execute_result"
    }
   ],
   "source": [
    "# rows of columns\n",
    "# columns do not have to be unique.\n",
    "# index, in general, does not have to be unique.\n",
    "testdf = pd.DataFrame(data=[np.arange(10), np.arange(10, 20)], columns=list('aabbcdefghijklmn'[:10]), index=[1, 1])\n",
    "# selecting non-unique locations will select all matching columns/rows.\n",
    "testdf['a']  # [col]\n",
    "testdf.loc[1, 'a']  # [rows, cols]\n"
   ]
  },
  {
   "cell_type": "code",
   "execution_count": 52,
   "metadata": {},
   "outputs": [
    {
     "data": {
      "text/plain": [
       "<matplotlib.axes._subplots.AxesSubplot at 0x1a4c9398fd0>"
      ]
     },
     "execution_count": 52,
     "metadata": {},
     "output_type": "execute_result"
    },
    {
     "data": {
      "image/png": "[encoded data removed]",
      "text/plain": [
       "<matplotlib.figure.Figure at 0x1a4c93985f8>"
      ]
     },
     "metadata": {},
     "output_type": "display_data"
    }
   ],
   "source": [
    "# pd.DataFrame(data=[np.arange(10), np.arange(10, 20)], columns=list('abcdefghijklmn'[:2]), index=np.arange(2, 12))\n",
    "\n",
    "# With Pandas, you first select the data, then plot:\n",
    "# df.plot(y=['RS501b A8-3', 'RS501b B4-4'])  # no.\n",
    "\n",
    "df[['RS501b A8-3', 'RS501b B4-4']]  # default is to get column by name;\n",
    "# To get a selection of rows: df.loc[rows, cols]\n",
    "display(df.loc[250:300:5, ['RS501b A8-3', 'RS501b B4-4']])\n",
    "# Use df.iloc to by-pass the axis index (rows, cols) and use numeric, zero-based index:\n",
    "display(df.iloc[20:30, [1, 2]])\n",
    "\n"
   ]
  },
  {
   "cell_type": "code",
   "execution_count": 54,
   "metadata": {},
   "outputs": [
    {
     "data": {
      "text/plain": [
       "<matplotlib.axes._subplots.AxesSubplot at 0x1a4c943cc18>"
      ]
     },
     "execution_count": 54,
     "metadata": {},
     "output_type": "execute_result"
    },
    {
     "data": {
      "image/png": "[encoded data removed]",
      "text/plain": [
       "<matplotlib.figure.Figure at 0x1a4c9b71518>"
      ]
     },
     "metadata": {},
     "output_type": "display_data"
    }
   ],
   "source": [
    "df.loc[250:300, ['RS501b A8-3', 'RS501b B4-4']].plot()\n"
   ]
  },
  {
   "cell_type": "code",
   "execution_count": 65,
   "metadata": {},
   "outputs": [
    {
     "name": "stdout",
     "output_type": "stream",
     "text": [
      "Index(['RS501b A8-3', 'RS501b B4-4', 'RS501b C10-5', 'RS501b D12-6',\n",
      "       'RS501b D9-8', 'RS501c A7 df20-10', 'RS501c C9C10 df20-11',\n",
      "       'RS501c C11 df20-12', 'RS501c C12D12 df20-13', 'RS501c D10D9 df20-14'],\n",
      "      dtype='object')\n",
      "['all', '-1', '-RS501b A8-3']\n"
     ]
    }
   ],
   "source": [
    "import shlex\n",
    "\n",
    "names = df.columns\n",
    "nidxs = list(range(len(names)))\n",
    "print(df.columns)\n",
    "\n",
    "requested = 'all -1 -\"RS501b A8-3\"'\n",
    "requested = shlex.split(requested_cols)\n",
    "\n",
    "selected = []  # numeric, indices\n",
    "\n",
    "def value_to_idxs(value):\n",
    "    try:\n",
    "        idxs = [int(value)]\n",
    "    except ValueError:\n",
    "        if value.startswith('/'):\n",
    "            # Javascript-like regex definition\n",
    "            pass\n",
    "        else:\n",
    "            idx = names.\n",
    "        \n",
    "\n",
    "for request in requested:\n",
    "    if request == 'all':\n",
    "        selected.extend(names)\n",
    "    elif request[0] == '-':\n",
    "        request = request[1:]\n",
    "        \n",
    "\n",
    "print(requested_cols)\n",
    "\n"
   ]
  },
  {
   "cell_type": "code",
   "execution_count": 66,
   "metadata": {},
   "outputs": [
    {
     "ename": "ValueError",
     "evalue": "invalid literal for int() with base 10: 's'",
     "output_type": "error",
     "traceback": [
      "\u001b[1;31m---------------------------------------------------------------------------\u001b[0m",
      "\u001b[1;31mValueError\u001b[0m                                Traceback (most recent call last)",
      "\u001b[1;32m<ipython-input-66-dc609df6bf7f>\u001b[0m in \u001b[0;36m<module>\u001b[1;34m()\u001b[0m\n\u001b[1;32m----> 1\u001b[1;33m \u001b[0mint\u001b[0m\u001b[1;33m(\u001b[0m\u001b[1;34m's'\u001b[0m\u001b[1;33m)\u001b[0m\u001b[1;33m\u001b[0m\u001b[0m\n\u001b[0m",
      "\u001b[1;31mValueError\u001b[0m: invalid literal for int() with base 10: 's'"
     ]
    }
   ],
   "source": [
    "int('s')"
   ]
  },
  {
   "cell_type": "code",
   "execution_count": null,
   "metadata": {},
   "outputs": [],
   "source": []
  }
 ],
 "metadata": {
  "kernelspec": {
   "display_name": "Python 3",
   "language": "python",
   "name": "python3"
  },
  "language_info": {
   "codemirror_mode": {
    "name": "ipython",
    "version": 3
   },
   "file_extension": ".py",
   "mimetype": "text/x-python",
   "name": "python",
   "nbconvert_exporter": "python",
   "pygments_lexer": "ipython3",
   "version": "3.6.3"
  }
 },
 "nbformat": 4,
 "nbformat_minor": 2
}
