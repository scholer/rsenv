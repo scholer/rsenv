{
 "cells": [
  {
   "cell_type": "code",
   "execution_count": 1,
   "metadata": {
    "collapsed": true
   },
   "outputs": [],
   "source": [
    "%matplotlib inline"
   ]
  },
  {
   "cell_type": "code",
   "execution_count": 2,
   "metadata": {
    "collapsed": false
   },
   "outputs": [
    {
     "ename": "ImportError",
     "evalue": "No module named 'pandas'",
     "output_type": "error",
     "traceback": [
      "\u001b[0;31m---------------------------------------------------------------------------\u001b[0m",
      "\u001b[0;31mImportError\u001b[0m                               Traceback (most recent call last)",
      "\u001b[0;32m<ipython-input-2-d6610d0dd587>\u001b[0m in \u001b[0;36m<module>\u001b[0;34m()\u001b[0m\n\u001b[1;32m      1\u001b[0m \u001b[1;32mimport\u001b[0m \u001b[0mos\u001b[0m\u001b[1;33m\u001b[0m\u001b[0m\n\u001b[1;32m      2\u001b[0m \u001b[1;32mimport\u001b[0m \u001b[0mnumpy\u001b[0m \u001b[1;32mas\u001b[0m \u001b[0mnp\u001b[0m\u001b[1;33m\u001b[0m\u001b[0m\n\u001b[0;32m----> 3\u001b[0;31m \u001b[1;32mimport\u001b[0m \u001b[0mpandas\u001b[0m \u001b[1;32mas\u001b[0m \u001b[0mpd\u001b[0m\u001b[1;33m\u001b[0m\u001b[0m\n\u001b[0m\u001b[1;32m      4\u001b[0m \u001b[1;32mfrom\u001b[0m \u001b[0mIPython\u001b[0m\u001b[1;33m.\u001b[0m\u001b[0mdisplay\u001b[0m \u001b[1;32mimport\u001b[0m \u001b[0mdisplay\u001b[0m\u001b[1;33m\u001b[0m\u001b[0m\n",
      "\u001b[0;31mImportError\u001b[0m: No module named 'pandas'"
     ]
    }
   ],
   "source": [
    "import os\n",
    "import numpy as np\n",
    "import pandas as pd\n",
    "from IPython.display import display"
   ]
  },
  {
   "cell_type": "code",
   "execution_count": null,
   "metadata": {
    "collapsed": true
   },
   "outputs": [],
   "source": [
    "from importlib import reload\n",
    "import rsenv\n",
    "RSENV_DIR = os.path.dirname(rsenv.__file__)\n",
    "EXAMPLE_DATA_DIR = os.path.join(os.path.dirname(RSENV_DIR), 'examples', 'example_data')\n",
    "from rsenv.data_analysis.nanodrop import denovix"
   ]
  },
  {
   "cell_type": "code",
   "execution_count": null,
   "metadata": {
    "collapsed": false
   },
   "outputs": [],
   "source": [
    "reload(denovix)\n",
    "\n",
    "print(rsenv.__file__)\n",
    "print(RSENV_DIR)\n",
    "print(EXAMPLE_DATA_DIR)\n",
    "\n",
    "fn = os.path.join(EXAMPLE_DATA_DIR, 'denovix', 'report_53.538.csv')\n",
    "\n",
    "df, metadata = denovix.csv_to_dataframe(fn)\n"
   ]
  },
  {
   "cell_type": "code",
   "execution_count": null,
   "metadata": {
    "collapsed": false
   },
   "outputs": [],
   "source": [
    "# rows of columns\n",
    "# columns do not have to be unique.\n",
    "# index, in general, does not have to be unique.\n",
    "testdf = pd.DataFrame(data=[np.arange(10), np.arange(10, 20)], columns=list('aabbcdefghijklmn'[:10]), index=[1, 1])\n",
    "# selecting non-unique locations will select all matching columns/rows.\n",
    "testdf['a']  # [col]\n",
    "testdf.loc[1, 'a']  # [rows, cols]\n"
   ]
  },
  {
   "cell_type": "code",
   "execution_count": null,
   "metadata": {
    "collapsed": false
   },
   "outputs": [],
   "source": [
    "# pd.DataFrame(data=[np.arange(10), np.arange(10, 20)], columns=list('abcdefghijklmn'[:2]), index=np.arange(2, 12))\n",
    "\n",
    "# With Pandas, you first select the data, then plot:\n",
    "# df.plot(y=['RS501b A8-3', 'RS501b B4-4'])  # no.\n",
    "\n",
    "df[['RS501b A8-3', 'RS501b B4-4']]  # default is to get column by name;\n",
    "# To get a selection of rows: df.loc[rows, cols]\n",
    "display(df.loc[250:300:5, ['RS501b A8-3', 'RS501b B4-4']])\n",
    "# Use df.iloc to by-pass the axis index (rows, cols) and use numeric, zero-based index:\n",
    "display(df.iloc[20:30, [1, 2]])\n",
    "\n"
   ]
  },
  {
   "cell_type": "code",
   "execution_count": null,
   "metadata": {
    "collapsed": false
   },
   "outputs": [],
   "source": [
    "df.loc[250:300, ['RS501b A8-3', 'RS501b B4-4']].plot()\n"
   ]
  },
  {
   "cell_type": "code",
   "execution_count": null,
   "metadata": {
    "collapsed": false
   },
   "outputs": [],
   "source": [
    "import shlex\n",
    "\n",
    "names = df.columns\n",
    "nidxs = list(range(len(names)))\n",
    "print(df.columns)\n",
    "\n",
    "requested = 'all -1 -\"RS501b A8-3\"'\n",
    "requested = shlex.split(requested_cols)\n",
    "\n",
    "selected = []  # numeric, indices\n",
    "\n",
    "def value_to_idxs(value):\n",
    "    try:\n",
    "        idxs = [int(value)]\n",
    "    except ValueError:\n",
    "        if value.startswith('/'):\n",
    "            # Javascript-like regex definition\n",
    "            pass\n",
    "        else:\n",
    "            idx = names.\n",
    "        \n",
    "\n",
    "for request in requested:\n",
    "    if request == 'all':\n",
    "        selected.extend(names)\n",
    "    elif request[0] == '-':\n",
    "        request = request[1:]\n",
    "        \n",
    "\n",
    "print(requested_cols)\n",
    "\n"
   ]
  },
  {
   "cell_type": "code",
   "execution_count": 3,
   "metadata": {
    "collapsed": false
   },
   "outputs": [
    {
     "ename": "ValueError",
     "evalue": "invalid literal for int() with base 10: 's'",
     "output_type": "error",
     "traceback": [
      "\u001b[0;31m---------------------------------------------------------------------------\u001b[0m",
      "\u001b[0;31mValueError\u001b[0m                                Traceback (most recent call last)",
      "\u001b[0;32m<ipython-input-3-c5b30bd3d6cd>\u001b[0m in \u001b[0;36m<module>\u001b[0;34m()\u001b[0m\n\u001b[0;32m----> 1\u001b[0;31m \u001b[0mint\u001b[0m\u001b[1;33m(\u001b[0m\u001b[1;34m's'\u001b[0m\u001b[1;33m)\u001b[0m\u001b[1;33m\u001b[0m\u001b[0m\n\u001b[0m",
      "\u001b[0;31mValueError\u001b[0m: invalid literal for int() with base 10: 's'"
     ]
    }
   ],
   "source": [
    "int('s')"
   ]
  },
  {
   "cell_type": "code",
   "execution_count": null,
   "metadata": {
    "collapsed": true
   },
   "outputs": [],
   "source": []
  }
 ],
 "metadata": {
  "kernelspec": {
   "display_name": "Python 3",
   "language": "python",
   "name": "python3"
  },
  "language_info": {
   "codemirror_mode": {
    "name": "ipython",
    "version": 3
   },
   "file_extension": ".py",
   "mimetype": "text/x-python",
   "name": "python",
   "nbconvert_exporter": "python",
   "pygments_lexer": "ipython3",
   "version": "3.4.5"
  }
 },
 "nbformat": 4,
 "nbformat_minor": 2
}
